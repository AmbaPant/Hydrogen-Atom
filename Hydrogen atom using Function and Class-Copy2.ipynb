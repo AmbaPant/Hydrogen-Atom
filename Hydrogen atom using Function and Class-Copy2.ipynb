{
 "cells": [
  {
   "cell_type": "markdown",
   "metadata": {},
   "source": [
    "### Hydrogen Atom"
   ]
  },
  {
   "cell_type": "code",
   "execution_count": 3,
   "metadata": {},
   "outputs": [
    {
     "data": {
      "text/html": [
       "<img src=\"img/Hydrogen_GIF.gif\"/>"
      ],
      "text/plain": [
       "<IPython.core.display.Image object>"
      ]
     },
     "execution_count": 3,
     "metadata": {},
     "output_type": "execute_result"
    }
   ],
   "source": [
    "import numpy as np\n",
    "from IPython.display import Image\n",
    "Image(url='img/Hydrogen_GIF.gif')"
   ]
  },
  {
   "cell_type": "markdown",
   "metadata": {},
   "source": [
    "#### Radius of  nth orbit $$ r_n= \\frac{n^2h^2\\varepsilon_0}{\\pi m e^2}=(0.528)n^2Angstrom$$\n",
    "#### Velocity of electron in nth orbit $$ v_n=\\frac{e^2}{2nh\\varepsilon_0} = \\frac{2.2*10^6}{n}m/s$$\n",
    "#### Total energy of electron in nth orbit $$ E_n=\\frac{-me^4}{8n^2h^2\\varepsilon_0^2}=-\\frac{13.6}{n^2}eV$$\n",
    "#### Wave Number   $$ \\nu =\\frac{me^4}{8n^2h^3\\varepsilon_0^2}(\\frac{1}{n_1^2}-\\frac{1}{n_2^2})=R(\\frac{1}{n_1^2}-\\frac{1}{n_2^2})$$ \n",
    "where R is the Rydberg Constant and $ R = 1.0973*10^7 /m$\n",
    "\n",
    "#### Wavelength  $$ \\lambda=\\frac{1}{\\nu}$$"
   ]
  },
  {
   "cell_type": "code",
   "execution_count": 4,
   "metadata": {},
   "outputs": [
    {
     "data": {
      "text/plain": [
       "(0.528,\n",
       " 2.112,\n",
       " 4.752000000000001,\n",
       " 8.448,\n",
       " 13.200000000000001,\n",
       " 19.008000000000003,\n",
       " 25.872,\n",
       " 33.792,\n",
       " 42.768,\n",
       " 52.800000000000004,\n",
       " 63.888000000000005)"
      ]
     },
     "execution_count": 4,
     "metadata": {},
     "output_type": "execute_result"
    }
   ],
   "source": [
    "def Hydrogen_radius(n):\n",
    "    f = n**2*k\n",
    "    return f\n",
    "k=0.528\n",
    "Hydrogen_radius(1),Hydrogen_radius(2),Hydrogen_radius(3),Hydrogen_radius(4),Hydrogen_radius(5),Hydrogen_radius(6),Hydrogen_radius(7),Hydrogen_radius(8),Hydrogen_radius(9),Hydrogen_radius(10),Hydrogen_radius(11)"
   ]
  },
  {
   "cell_type": "code",
   "execution_count": 5,
   "metadata": {},
   "outputs": [
    {
     "data": {
      "text/plain": [
       "(2200000.0,\n",
       " 1100000.0,\n",
       " 733333.3333333334,\n",
       " 550000.0,\n",
       " 440000.0,\n",
       " 366666.6666666667,\n",
       " 314285.71428571426,\n",
       " 275000.0,\n",
       " 244444.44444444444,\n",
       " 220000.0,\n",
       " 200000.0)"
      ]
     },
     "execution_count": 5,
     "metadata": {},
     "output_type": "execute_result"
    }
   ],
   "source": [
    "def velocity_of_electron(n):\n",
    "    v=k1/n\n",
    "    return v\n",
    "k1=2.2*10**6\n",
    "velocity_of_electron(1),velocity_of_electron(2),velocity_of_electron(3),velocity_of_electron(4),velocity_of_electron(5),velocity_of_electron(6),velocity_of_electron(7),velocity_of_electron(8),velocity_of_electron(9),velocity_of_electron(10),velocity_of_electron(11)"
   ]
  },
  {
   "cell_type": "code",
   "execution_count": 6,
   "metadata": {},
   "outputs": [
    {
     "data": {
      "text/plain": [
       "(-13.6,\n",
       " -3.4,\n",
       " -1.511111111111111,\n",
       " -0.85,\n",
       " -0.544,\n",
       " -0.37777777777777777,\n",
       " -0.27755102040816326,\n",
       " -0.2125,\n",
       " -0.16790123456790124,\n",
       " -0.136,\n",
       " -0.11239669421487603)"
      ]
     },
     "execution_count": 6,
     "metadata": {},
     "output_type": "execute_result"
    }
   ],
   "source": [
    "def Total_Energy(n):\n",
    "    E=-k2/n**2\n",
    "    return E\n",
    "k2=13.6\n",
    "Total_Energy(1), Total_Energy(2), Total_Energy(3), Total_Energy(4), Total_Energy(5), Total_Energy(6), Total_Energy(7), Total_Energy(8), Total_Energy(9),Total_Energy(10),Total_Energy(11)"
   ]
  },
  {
   "cell_type": "code",
   "execution_count": 7,
   "metadata": {},
   "outputs": [
    {
     "data": {
      "text/plain": [
       "(8227500.0,\n",
       " 9751111.11111111,\n",
       " 10284375.0,\n",
       " 10531200.0,\n",
       " 10665277.777777778,\n",
       " 10746122.448979592,\n",
       " 10798593.75,\n",
       " 10834567.901234567,\n",
       " 10860300.0,\n",
       " 10879338.842975207,\n",
       " 10893819.444444444)"
      ]
     },
     "execution_count": 7,
     "metadata": {},
     "output_type": "execute_result"
    }
   ],
   "source": [
    "def Wave_Number(n1,n2):\n",
    "    g=R*(1/(n1)**2-1/(n2)**2)\n",
    "    return g\n",
    "R=1.097*10**7\n",
    "Wave_Number(1,2),Wave_Number(1,3),Wave_Number(1,4),Wave_Number(1,5),Wave_Number(1,6),Wave_Number(1,7),Wave_Number(1,8),Wave_Number(1,9),Wave_Number(1,10),Wave_Number(1,11), Wave_Number(1,12)"
   ]
  },
  {
   "cell_type": "code",
   "execution_count": 8,
   "metadata": {},
   "outputs": [
    {
     "data": {
      "text/plain": [
       "(1.215436037678517e-07,\n",
       " 1.0255241567912489e-07,\n",
       " 9.723488301428137e-08,\n",
       " 9.495594044363416e-08,\n",
       " 9.376220862091418e-08,\n",
       " 9.305682163476147e-08,\n",
       " 9.260465048979179e-08,\n",
       " 9.22971741112124e-08,\n",
       " 9.207848770291797e-08,\n",
       " 9.191735034943786e-08,\n",
       " 9.179516927921668e-08)"
      ]
     },
     "execution_count": 8,
     "metadata": {},
     "output_type": "execute_result"
    }
   ],
   "source": [
    "def Wave_Length(n1,n2):\n",
    "    h=(R*(1/(n1)**2-1/(n2)**2))**-1\n",
    "    return h\n",
    "R=1.097*10**7\n",
    "Wave_Length(1,2),Wave_Length(1,3),Wave_Length(1,4),Wave_Length(1,5),Wave_Length(1,6),Wave_Length(1,7),Wave_Length(1,8),Wave_Length(1,9),Wave_Length(1,10),Wave_Length(1,11),Wave_Length(1,12)"
   ]
  },
  {
   "cell_type": "code",
   "execution_count": 9,
   "metadata": {},
   "outputs": [
    {
     "data": {
      "text/plain": [
       "(0.528, 2200000.0, -13.6, 8227500.0, 1.215436037678517e-07)"
      ]
     },
     "execution_count": 9,
     "metadata": {},
     "output_type": "execute_result"
    }
   ],
   "source": [
    "class Hydrogen_atom():\n",
    "    def __init__(self,value_k,value_k1,value_k2,value_R, info,info1):\n",
    "        self.k=value_k\n",
    "        self.k1=value_k1\n",
    "        self.k2=value_k2\n",
    "        self.R=value_R\n",
    "        self.info=info\n",
    "        self.info1=info1\n",
    "    def Hydrogen_radius(self,n):\n",
    "        rn=self.k*n**2\n",
    "        #print(self.info)\n",
    "        return rn\n",
    "    def velocity_of_electron(self,n):\n",
    "        vn=self.k1/n\n",
    "        #print(self.info1)\n",
    "        return vn\n",
    "    def Total_Energy(self, n):\n",
    "        En=-self.k2/n**2\n",
    "        return En\n",
    "    def Wave_Number(self,n1,n2):\n",
    "        f=self.R*(1/(n1)**2-1/(n2)**2)\n",
    "        return f\n",
    "    def Wave_Length(self, n1,n2):\n",
    "        L=(self.R*(1/(n1)**2-1/(n2)**2))**-1\n",
    "        return L\n",
    "H=Hydrogen_atom(value_k=0.528,value_k1=2.2*10**6,value_k2=13.6,value_R=1.097*10**7,info='Wow', info1='Jaw Dropping!!')\n",
    "H.Hydrogen_radius(1),H.velocity_of_electron(1),H.Total_Energy(1),H.Wave_Number(1,2), H.Wave_Length(1,2)    \n",
    "        \n",
    "        "
   ]
  },
  {
   "cell_type": "code",
   "execution_count": 19,
   "metadata": {},
   "outputs": [],
   "source": [
    "N=[]\n",
    "R=[]\n",
    "V=[]\n",
    "E=[]\n",
    "F=[]\n",
    "G=[]\n",
    "for n in range(1,7):\n",
    "    rr=H.Hydrogen_radius(n)\n",
    "    vv=H.velocity_of_electron(n)\n",
    "    ee=H.Total_Energy(n)\n",
    "    for n1 in range(1,7):\n",
    "        for n2 in range(1,7):\n",
    "            if n1!=n2:\n",
    "                ff=H.Wave_Number(n1,n2)\n",
    "                gg=H.Wave_Length(n1,n2)\n",
    "    N.append(n)\n",
    "    R.append(rr)\n",
    "    V.append(vv)\n",
    "    E.append(ee)\n",
    "    F.append(ff)\n",
    "    G.append(gg)\n",
    "#print(N,R,V,E, F,G)      \n",
    "           "
   ]
  },
  {
   "cell_type": "code",
   "execution_count": 26,
   "metadata": {},
   "outputs": [
    {
     "name": "stdout",
     "output_type": "stream",
     "text": [
      "{'PrincipalQuantumNumber': [1, 2, 3, 4, 5, 6], 'radius': [0.528, 2.112, 4.752000000000001, 8.448, 13.200000000000001, 19.008000000000003], 'Velocity': [2200000.0, 1100000.0, 733333.3333333334, 550000.0, 440000.0, 366666.6666666667], 'Energy': [-13.6, -3.4, -1.511111111111111, -0.85, -0.544, -0.37777777777777777], 'WaveNumber': [-134077.7777777778, -134077.7777777778, -134077.7777777778, -134077.7777777778, -134077.7777777778, -134077.7777777778], 'wavelength': [-7.4583575039363536e-06, -7.4583575039363536e-06, -7.4583575039363536e-06, -7.4583575039363536e-06, -7.4583575039363536e-06, -7.4583575039363536e-06]}\n"
     ]
    }
   ],
   "source": [
    "data={}\n",
    "data.update({\"PrincipalQuantumNumber\":N, \"radius\":R, \"Velocity\":V, \"Energy\":E, \"WaveNumber\":F, \"wavelength\":G})\n",
    "print(data)"
   ]
  },
  {
   "cell_type": "code",
   "execution_count": 34,
   "metadata": {},
   "outputs": [],
   "source": [
    "import pandas as pd\n",
    "DF=pd.DataFrame(data)\n",
    "#print(DF)"
   ]
  },
  {
   "cell_type": "code",
   "execution_count": 35,
   "metadata": {},
   "outputs": [
    {
     "data": {
      "text/html": [
       "<div>\n",
       "<style scoped>\n",
       "    .dataframe tbody tr th:only-of-type {\n",
       "        vertical-align: middle;\n",
       "    }\n",
       "\n",
       "    .dataframe tbody tr th {\n",
       "        vertical-align: top;\n",
       "    }\n",
       "\n",
       "    .dataframe thead th {\n",
       "        text-align: right;\n",
       "    }\n",
       "</style>\n",
       "<table border=\"1\" class=\"dataframe\">\n",
       "  <thead>\n",
       "    <tr style=\"text-align: right;\">\n",
       "      <th></th>\n",
       "      <th>PrincipalQuantumNumber</th>\n",
       "      <th>radius</th>\n",
       "      <th>Velocity</th>\n",
       "      <th>Energy</th>\n",
       "      <th>WaveNumber</th>\n",
       "      <th>wavelength</th>\n",
       "    </tr>\n",
       "  </thead>\n",
       "  <tbody>\n",
       "    <tr>\n",
       "      <th>0</th>\n",
       "      <td>1</td>\n",
       "      <td>0.528</td>\n",
       "      <td>2.200000e+06</td>\n",
       "      <td>-13.600000</td>\n",
       "      <td>-134077.777778</td>\n",
       "      <td>-0.000007</td>\n",
       "    </tr>\n",
       "    <tr>\n",
       "      <th>1</th>\n",
       "      <td>2</td>\n",
       "      <td>2.112</td>\n",
       "      <td>1.100000e+06</td>\n",
       "      <td>-3.400000</td>\n",
       "      <td>-134077.777778</td>\n",
       "      <td>-0.000007</td>\n",
       "    </tr>\n",
       "    <tr>\n",
       "      <th>2</th>\n",
       "      <td>3</td>\n",
       "      <td>4.752</td>\n",
       "      <td>7.333333e+05</td>\n",
       "      <td>-1.511111</td>\n",
       "      <td>-134077.777778</td>\n",
       "      <td>-0.000007</td>\n",
       "    </tr>\n",
       "    <tr>\n",
       "      <th>3</th>\n",
       "      <td>4</td>\n",
       "      <td>8.448</td>\n",
       "      <td>5.500000e+05</td>\n",
       "      <td>-0.850000</td>\n",
       "      <td>-134077.777778</td>\n",
       "      <td>-0.000007</td>\n",
       "    </tr>\n",
       "    <tr>\n",
       "      <th>4</th>\n",
       "      <td>5</td>\n",
       "      <td>13.200</td>\n",
       "      <td>4.400000e+05</td>\n",
       "      <td>-0.544000</td>\n",
       "      <td>-134077.777778</td>\n",
       "      <td>-0.000007</td>\n",
       "    </tr>\n",
       "  </tbody>\n",
       "</table>\n",
       "</div>"
      ],
      "text/plain": [
       "   PrincipalQuantumNumber  radius      Velocity     Energy     WaveNumber  \\\n",
       "0                       1   0.528  2.200000e+06 -13.600000 -134077.777778   \n",
       "1                       2   2.112  1.100000e+06  -3.400000 -134077.777778   \n",
       "2                       3   4.752  7.333333e+05  -1.511111 -134077.777778   \n",
       "3                       4   8.448  5.500000e+05  -0.850000 -134077.777778   \n",
       "4                       5  13.200  4.400000e+05  -0.544000 -134077.777778   \n",
       "\n",
       "   wavelength  \n",
       "0   -0.000007  \n",
       "1   -0.000007  \n",
       "2   -0.000007  \n",
       "3   -0.000007  \n",
       "4   -0.000007  "
      ]
     },
     "execution_count": 35,
     "metadata": {},
     "output_type": "execute_result"
    }
   ],
   "source": [
    "DF.to_csv(\"Hydrogen_atom.csv\")\n",
    "DF.head()"
   ]
  },
  {
   "cell_type": "code",
   "execution_count": 36,
   "metadata": {},
   "outputs": [
    {
     "data": {
      "text/html": [
       "<div>\n",
       "<style scoped>\n",
       "    .dataframe tbody tr th:only-of-type {\n",
       "        vertical-align: middle;\n",
       "    }\n",
       "\n",
       "    .dataframe tbody tr th {\n",
       "        vertical-align: top;\n",
       "    }\n",
       "\n",
       "    .dataframe thead th {\n",
       "        text-align: right;\n",
       "    }\n",
       "</style>\n",
       "<table border=\"1\" class=\"dataframe\">\n",
       "  <thead>\n",
       "    <tr style=\"text-align: right;\">\n",
       "      <th></th>\n",
       "      <th>Unnamed: 0</th>\n",
       "      <th>PrincipalQuantumNumber</th>\n",
       "      <th>radius</th>\n",
       "      <th>Velocity</th>\n",
       "      <th>Energy</th>\n",
       "      <th>WaveNumber</th>\n",
       "      <th>wavelength</th>\n",
       "    </tr>\n",
       "  </thead>\n",
       "  <tbody>\n",
       "    <tr>\n",
       "      <th>0</th>\n",
       "      <td>0</td>\n",
       "      <td>1</td>\n",
       "      <td>0.528</td>\n",
       "      <td>2.200000e+06</td>\n",
       "      <td>-13.600000</td>\n",
       "      <td>-134077.777778</td>\n",
       "      <td>-0.000007</td>\n",
       "    </tr>\n",
       "    <tr>\n",
       "      <th>1</th>\n",
       "      <td>1</td>\n",
       "      <td>2</td>\n",
       "      <td>2.112</td>\n",
       "      <td>1.100000e+06</td>\n",
       "      <td>-3.400000</td>\n",
       "      <td>-134077.777778</td>\n",
       "      <td>-0.000007</td>\n",
       "    </tr>\n",
       "    <tr>\n",
       "      <th>2</th>\n",
       "      <td>2</td>\n",
       "      <td>3</td>\n",
       "      <td>4.752</td>\n",
       "      <td>7.333333e+05</td>\n",
       "      <td>-1.511111</td>\n",
       "      <td>-134077.777778</td>\n",
       "      <td>-0.000007</td>\n",
       "    </tr>\n",
       "    <tr>\n",
       "      <th>3</th>\n",
       "      <td>3</td>\n",
       "      <td>4</td>\n",
       "      <td>8.448</td>\n",
       "      <td>5.500000e+05</td>\n",
       "      <td>-0.850000</td>\n",
       "      <td>-134077.777778</td>\n",
       "      <td>-0.000007</td>\n",
       "    </tr>\n",
       "    <tr>\n",
       "      <th>4</th>\n",
       "      <td>4</td>\n",
       "      <td>5</td>\n",
       "      <td>13.200</td>\n",
       "      <td>4.400000e+05</td>\n",
       "      <td>-0.544000</td>\n",
       "      <td>-134077.777778</td>\n",
       "      <td>-0.000007</td>\n",
       "    </tr>\n",
       "    <tr>\n",
       "      <th>5</th>\n",
       "      <td>5</td>\n",
       "      <td>6</td>\n",
       "      <td>19.008</td>\n",
       "      <td>3.666667e+05</td>\n",
       "      <td>-0.377778</td>\n",
       "      <td>-134077.777778</td>\n",
       "      <td>-0.000007</td>\n",
       "    </tr>\n",
       "  </tbody>\n",
       "</table>\n",
       "</div>"
      ],
      "text/plain": [
       "   Unnamed: 0  PrincipalQuantumNumber  radius      Velocity     Energy  \\\n",
       "0           0                       1   0.528  2.200000e+06 -13.600000   \n",
       "1           1                       2   2.112  1.100000e+06  -3.400000   \n",
       "2           2                       3   4.752  7.333333e+05  -1.511111   \n",
       "3           3                       4   8.448  5.500000e+05  -0.850000   \n",
       "4           4                       5  13.200  4.400000e+05  -0.544000   \n",
       "5           5                       6  19.008  3.666667e+05  -0.377778   \n",
       "\n",
       "      WaveNumber  wavelength  \n",
       "0 -134077.777778   -0.000007  \n",
       "1 -134077.777778   -0.000007  \n",
       "2 -134077.777778   -0.000007  \n",
       "3 -134077.777778   -0.000007  \n",
       "4 -134077.777778   -0.000007  \n",
       "5 -134077.777778   -0.000007  "
      ]
     },
     "execution_count": 36,
     "metadata": {},
     "output_type": "execute_result"
    }
   ],
   "source": [
    "df=pd.read_csv(\"Hydrogen_atom.csv\")\n",
    "df"
   ]
  },
  {
   "cell_type": "code",
   "execution_count": 37,
   "metadata": {},
   "outputs": [],
   "source": [
    "import matplotlib.pyplot as plt\n",
    "%matplotlib inline\n",
    "import seaborn as sns\n",
    "sns.set()\n",
    "import random as random\n",
    "import json as json\n",
    "import pandas as pd\n",
    "import numpy as np"
   ]
  },
  {
   "cell_type": "code",
   "execution_count": 41,
   "metadata": {},
   "outputs": [
    {
     "data": {
      "image/png": "[encoded data removed]",
      "text/plain": [
       "<Figure size 432x288 with 1 Axes>"
      ]
     },
     "metadata": {},
     "output_type": "display_data"
    }
   ],
   "source": [
    "plt.plot(df.PrincipalQuantumNumber,df.radius,label='Radius of Orbit')\n",
    "plt.plot(df.PrincipalQuantumNumber,df.Velocity,label='Velocity of Electron')\n",
    "plt.plot(df.PrincipalQuantumNumber,df.Energy,label='Total Energy')\n",
    "plt.plot(df.PrincipalQuantumNumber,df.WaveNumber,label='Wave Number')\n",
    "plt.plot(df.PrincipalQuantumNumber,df.wavelength,label='Wave Length')\n",
    "plt.title('Variation of H-functions with n')\n",
    "plt.xlabel('Principal Quantum Number')\n",
    "plt.grid(True)\n",
    "plt.legend()\n",
    "plt.show()"
   ]
  },
  {
   "cell_type": "code",
   "execution_count": 42,
   "metadata": {},
   "outputs": [
    {
     "data": {
      "text/plain": [
       "<matplotlib.legend.Legend at 0x23f640bda48>"
      ]
     },
     "execution_count": 42,
     "metadata": {},
     "output_type": "execute_result"
    },
    {
     "data": {
      "image/png": "[encoded data removed]",
      "text/plain": [
       "<Figure size 432x288 with 1 Axes>"
      ]
     },
     "metadata": {},
     "output_type": "display_data"
    }
   ],
   "source": [
    "plt.semilogy(df.PrincipalQuantumNumber,df.radius,label='Radius of Orbit')\n",
    "plt.semilogy(df.PrincipalQuantumNumber,df.Velocity,label='Velocity of Electron')\n",
    "plt.semilogy(df.PrincipalQuantumNumber,df.Energy,label='Total Energy')\n",
    "plt.xlabel('Principal Quantum Number')\n",
    "plt.title('Variation of H-functions with n')\n",
    "plt.grid(True)\n",
    "plt.legend()"
   ]
  },
  {
   "cell_type": "code",
   "execution_count": 43,
   "metadata": {},
   "outputs": [
    {
     "data": {
      "text/plain": [
       "<matplotlib.legend.Legend at 0x23f6421ee48>"
      ]
     },
     "execution_count": 43,
     "metadata": {},
     "output_type": "execute_result"
    },
    {
     "data": {
      "image/png": "[encoded data removed]",
      "text/plain": [
       "<Figure size 432x288 with 1 Axes>"
      ]
     },
     "metadata": {},
     "output_type": "display_data"
    }
   ],
   "source": [
    "plt.loglog(df.PrincipalQuantumNumber,df.radius,label='Radius of Orbit')\n",
    "plt.loglog(df.PrincipalQuantumNumber,df.Velocity,label='Velocity of Electron')\n",
    "plt.loglog(df.PrincipalQuantumNumber,df.Energy,label='Total Energy')\n",
    "plt.title('Variation of H-functions with n')\n",
    "plt.xlabel('Principal Quantum Number')\n",
    "plt.grid(True)\n",
    "plt.legend()"
   ]
  },
  {
   "cell_type": "markdown",
   "metadata": {},
   "source": [
    "### Hydrogen Wave functions"
   ]
  },
  {
   "cell_type": "markdown",
   "metadata": {},
   "source": [
    "#### Higher(quantum interpretation) level reference: https://docs.sympy.org/latest/modules/physics/index.html"
   ]
  },
  {
   "cell_type": "markdown",
   "metadata": {},
   "source": [
    "## what is JSON?\n",
    "\n",
    "#### JavaScript Object Notation (JSON) is a standard text-based format for representing structured data based on JavaScript object syntax. It is commonly used for transmitting data in web applications (e.g., sending some data from the server to the client, so it can be displayed on a web page, or vice versa).\n",
    "JSON is a text-based data format following JavaScript object syntax, which was popularized by Douglas Crockford. Even though it closely resembles JavaScript object literal syntax, it can be used independently from JavaScript, and many programming environments feature the ability to read (parse) and generate JSON.\n",
    "\n",
    "JSON exists as a string — useful when you want to transmit data across a network. It needs to be converted to a native JavaScript object when you want to access the data. This is not a big issue —  JavaScript provides a global JSON object that has methods available for converting between the two.\n",
    "\n"
   ]
  },
  {
   "cell_type": "markdown",
   "metadata": {},
   "source": [
    "## What is seaborn?\n",
    "Seaborn is a Python data visualization library based on matplotlib. It provides a high-level interface for drawing attractive and informative statistical graphics."
   ]
  },
  {
   "cell_type": "code",
   "execution_count": null,
   "metadata": {},
   "outputs": [],
   "source": []
  }
 ],
 "metadata": {
  "kernelspec": {
   "display_name": "Python 3",
   "language": "python",
   "name": "python3"
  },
  "language_info": {
   "codemirror_mode": {
    "name": "ipython",
    "version": 3
   },
   "file_extension": ".py",
   "mimetype": "text/x-python",
   "name": "python",
   "nbconvert_exporter": "python",
   "pygments_lexer": "ipython3",
   "version": "3.7.6"
  }
 },
 "nbformat": 4,
 "nbformat_minor": 4
}
