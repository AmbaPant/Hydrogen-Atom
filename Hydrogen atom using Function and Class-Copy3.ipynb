{
 "cells": [
  {
   "cell_type": "markdown",
   "metadata": {},
   "source": [
    "### Hydrogen Atom"
   ]
  },
  {
   "cell_type": "code",
   "execution_count": 2,
   "metadata": {},
   "outputs": [
    {
     "data": {
      "text/html": [
       "<img src=\"img/Hydrogen_GIF.gif\"/>"
      ],
      "text/plain": [
       "<IPython.core.display.Image object>"
      ]
     },
     "execution_count": 2,
     "metadata": {},
     "output_type": "execute_result"
    }
   ],
   "source": [
    "import numpy as np\n",
    "from IPython.display import Image\n",
    "Image(url='img/Hydrogen_GIF.gif')"
   ]
  },
  {
   "cell_type": "markdown",
   "metadata": {},
   "source": [
    "#### Radius of  nth orbit $$ r_n= \\frac{n^2h^2\\varepsilon_0}{\\pi m e^2}=(0.528)n^2Angstrom$$\n",
    "#### Velocity of electron in nth orbit $$ v_n=\\frac{e^2}{2nh\\varepsilon_0} = \\frac{2.2*10^6}{n}m/s$$\n",
    "#### Total energy of electron in nth orbit $$ E_n=\\frac{-me^4}{8n^2h^2\\varepsilon_0^2}=-\\frac{13.6}{n^2}eV$$\n",
    "#### Wave Number   $$ \\nu =\\frac{me^4}{8n^2h^3\\varepsilon_0^2}(\\frac{1}{n_1^2}-\\frac{1}{n_2^2})=R(\\frac{1}{n_1^2}-\\frac{1}{n_2^2})$$ \n",
    "where R is the Rydberg Constant and $ R = 1.0973*10^7 /m$\n",
    "\n",
    "#### Wavelength  $$ \\lambda=\\frac{1}{\\nu}$$"
   ]
  },
  {
   "cell_type": "code",
   "execution_count": 4,
   "metadata": {},
   "outputs": [
    {
     "data": {
      "text/plain": [
       "(0.528,\n",
       " 2.112,\n",
       " 4.752000000000001,\n",
       " 8.448,\n",
       " 13.200000000000001,\n",
       " 19.008000000000003,\n",
       " 25.872,\n",
       " 33.792,\n",
       " 42.768,\n",
       " 52.800000000000004,\n",
       " 63.888000000000005)"
      ]
     },
     "execution_count": 4,
     "metadata": {},
     "output_type": "execute_result"
    }
   ],
   "source": [
    "def Hydrogen_radius(n):\n",
    "    f = n**2*k\n",
    "    return f\n",
    "k=0.528\n",
    "Hydrogen_radius(1),Hydrogen_radius(2),Hydrogen_radius(3),Hydrogen_radius(4),Hydrogen_radius(5),Hydrogen_radius(6),Hydrogen_radius(7),Hydrogen_radius(8),Hydrogen_radius(9),Hydrogen_radius(10),Hydrogen_radius(11)"
   ]
  },
  {
   "cell_type": "code",
   "execution_count": 5,
   "metadata": {},
   "outputs": [
    {
     "data": {
      "text/plain": [
       "(2200000.0,\n",
       " 1100000.0,\n",
       " 733333.3333333334,\n",
       " 550000.0,\n",
       " 440000.0,\n",
       " 366666.6666666667,\n",
       " 314285.71428571426,\n",
       " 275000.0,\n",
       " 244444.44444444444,\n",
       " 220000.0,\n",
       " 200000.0)"
      ]
     },
     "execution_count": 5,
     "metadata": {},
     "output_type": "execute_result"
    }
   ],
   "source": [
    "def velocity_of_electron(n):\n",
    "    v=k1/n\n",
    "    return v\n",
    "k1=2.2*10**6\n",
    "velocity_of_electron(1),velocity_of_electron(2),velocity_of_electron(3),velocity_of_electron(4),velocity_of_electron(5),velocity_of_electron(6),velocity_of_electron(7),velocity_of_electron(8),velocity_of_electron(9),velocity_of_electron(10),velocity_of_electron(11)"
   ]
  },
  {
   "cell_type": "code",
   "execution_count": 6,
   "metadata": {},
   "outputs": [
    {
     "data": {
      "text/plain": [
       "(-13.6,\n",
       " -3.4,\n",
       " -1.511111111111111,\n",
       " -0.85,\n",
       " -0.544,\n",
       " -0.37777777777777777,\n",
       " -0.27755102040816326,\n",
       " -0.2125,\n",
       " -0.16790123456790124,\n",
       " -0.136,\n",
       " -0.11239669421487603)"
      ]
     },
     "execution_count": 6,
     "metadata": {},
     "output_type": "execute_result"
    }
   ],
   "source": [
    "def Total_Energy(n):\n",
    "    E=-k2/n**2\n",
    "    return E\n",
    "k2=13.6\n",
    "Total_Energy(1), Total_Energy(2), Total_Energy(3), Total_Energy(4), Total_Energy(5), Total_Energy(6), Total_Energy(7), Total_Energy(8), Total_Energy(9),Total_Energy(10),Total_Energy(11)"
   ]
  },
  {
   "cell_type": "code",
   "execution_count": 7,
   "metadata": {},
   "outputs": [
    {
     "data": {
      "text/plain": [
       "(8227500.0,\n",
       " 9751111.11111111,\n",
       " 10284375.0,\n",
       " 10531200.0,\n",
       " 10665277.777777778,\n",
       " 10746122.448979592,\n",
       " 10798593.75,\n",
       " 10834567.901234567,\n",
       " 10860300.0,\n",
       " 10879338.842975207,\n",
       " 10893819.444444444)"
      ]
     },
     "execution_count": 7,
     "metadata": {},
     "output_type": "execute_result"
    }
   ],
   "source": [
    "def Wave_Number(n1,n2):\n",
    "    g=R*(1/(n1)**2-1/(n2)**2)\n",
    "    return g\n",
    "R=1.097*10**7\n",
    "Wave_Number(1,2),Wave_Number(1,3),Wave_Number(1,4),Wave_Number(1,5),Wave_Number(1,6),Wave_Number(1,7),Wave_Number(1,8),Wave_Number(1,9),Wave_Number(1,10),Wave_Number(1,11), Wave_Number(1,12)"
   ]
  },
  {
   "cell_type": "code",
   "execution_count": 8,
   "metadata": {},
   "outputs": [
    {
     "data": {
      "text/plain": [
       "(1.215436037678517e-07,\n",
       " 1.0255241567912489e-07,\n",
       " 9.723488301428137e-08,\n",
       " 9.495594044363416e-08,\n",
       " 9.376220862091418e-08,\n",
       " 9.305682163476147e-08,\n",
       " 9.260465048979179e-08,\n",
       " 9.22971741112124e-08,\n",
       " 9.207848770291797e-08,\n",
       " 9.191735034943786e-08,\n",
       " 9.179516927921668e-08)"
      ]
     },
     "execution_count": 8,
     "metadata": {},
     "output_type": "execute_result"
    }
   ],
   "source": [
    "def Wave_Length(n1,n2):\n",
    "    h=(R*(1/(n1)**2-1/(n2)**2))**-1\n",
    "    return h\n",
    "R=1.097*10**7\n",
    "Wave_Length(1,2),Wave_Length(1,3),Wave_Length(1,4),Wave_Length(1,5),Wave_Length(1,6),Wave_Length(1,7),Wave_Length(1,8),Wave_Length(1,9),Wave_Length(1,10),Wave_Length(1,11),Wave_Length(1,12)"
   ]
  },
  {
   "cell_type": "code",
   "execution_count": 9,
   "metadata": {},
   "outputs": [
    {
     "data": {
      "text/plain": [
       "(0.528, 2200000.0, -13.6, 8227500.0, 1.215436037678517e-07)"
      ]
     },
     "execution_count": 9,
     "metadata": {},
     "output_type": "execute_result"
    }
   ],
   "source": [
    "class Hydrogen_atom():\n",
    "    def __init__(self,value_k,value_k1,value_k2,value_R, info,info1):\n",
    "        self.k=value_k\n",
    "        self.k1=value_k1\n",
    "        self.k2=value_k2\n",
    "        self.R=value_R\n",
    "        self.info=info\n",
    "        self.info1=info1\n",
    "    def Hydrogen_radius(self,n):\n",
    "        rn=self.k*n**2\n",
    "        #print(self.info)\n",
    "        return rn\n",
    "    def velocity_of_electron(self,n):\n",
    "        vn=self.k1/n\n",
    "        #print(self.info1)\n",
    "        return vn\n",
    "    def Total_Energy(self, n):\n",
    "        En=-self.k2/n**2\n",
    "        return En\n",
    "    def Wave_Number(self,n1,n2):\n",
    "        f=self.R*(1/(n1)**2-1/(n2)**2)\n",
    "        return f\n",
    "    def Wave_Length(self, n1,n2):\n",
    "        L=(self.R*(1/(n1)**2-1/(n2)**2))**-1\n",
    "        return L\n",
    "H=Hydrogen_atom(value_k=0.528,value_k1=2.2*10**6,value_k2=13.6,value_R=1.097*10**7,info='Wow', info1='Jaw Dropping!!')\n",
    "H.Hydrogen_radius(1),H.velocity_of_electron(1),H.Total_Energy(1),H.Wave_Number(1,2), H.Wave_Length(1,2)    \n",
    "        \n",
    "        "
   ]
  },
  {
   "cell_type": "code",
   "execution_count": 28,
   "metadata": {},
   "outputs": [
    {
     "name": "stdout",
     "output_type": "stream",
     "text": [
      "[1, 2, 3, 4, 5, 6, 7, 8, 9, 10, 11, 12, 13, 14, 15, 16, 17, 18, 19, 20, 21, 22, 23, 24, 25, 26, 27, 28, 29, 30, 31, 32, 33, 34, 35, 36, 37, 38, 39, 40, 41, 42, 43, 44, 45, 46, 47, 48, 49, 50, 51, 52, 53, 54, 55, 56, 57, 58, 59, 60, 61, 62, 63, 64, 65, 66, 67, 68, 69] [0.528, 2.112, 4.752000000000001, 8.448, 13.200000000000001, 19.008000000000003, 25.872, 33.792, 42.768, 52.800000000000004, 63.888000000000005, 76.03200000000001, 89.232, 103.488, 118.80000000000001, 135.168, 152.592, 171.072, 190.608, 211.20000000000002, 232.848, 255.55200000000002, 279.312, 304.12800000000004, 330.0, 356.928, 384.91200000000003, 413.952, 444.048, 475.20000000000005, 507.408, 540.672, 574.9920000000001, 610.368, 646.8000000000001, 684.288, 722.832, 762.432, 803.0880000000001, 844.8000000000001, 887.5680000000001, 931.392, 976.272, 1022.2080000000001, 1069.2, 1117.248, 1166.352, 1216.5120000000002, 1267.728, 1320.0, 1373.328, 1427.712, 1483.152, 1539.6480000000001, 1597.2, 1655.808, 1715.472, 1776.192, 1837.968, 1900.8000000000002, 1964.688, 2029.632, 2095.632, 2162.688, 2230.8, 2299.9680000000003, 2370.192, 2441.472, 2513.808] [2200000.0, 1100000.0, 733333.3333333334, 550000.0, 440000.0, 366666.6666666667, 314285.71428571426, 275000.0, 244444.44444444444, 220000.0, 200000.0, 183333.33333333334, 169230.76923076922, 157142.85714285713, 146666.66666666666, 137500.0, 129411.76470588235, 122222.22222222222, 115789.47368421052, 110000.0, 104761.90476190476, 100000.0, 95652.17391304347, 91666.66666666667, 88000.0, 84615.38461538461, 81481.48148148147, 78571.42857142857, 75862.06896551725, 73333.33333333333, 70967.74193548386, 68750.0, 66666.66666666667, 64705.882352941175, 62857.142857142855, 61111.11111111111, 59459.45945945946, 57894.73684210526, 56410.256410256414, 55000.0, 53658.53658536585, 52380.95238095238, 51162.79069767442, 50000.0, 48888.88888888889, 47826.086956521736, 46808.51063829787, 45833.333333333336, 44897.95918367347, 44000.0, 43137.25490196078, 42307.692307692305, 41509.43396226415, 40740.74074074074, 40000.0, 39285.71428571428, 38596.491228070176, 37931.03448275862, 37288.13559322034, 36666.666666666664, 36065.57377049181, 35483.87096774193, 34920.63492063492, 34375.0, 33846.153846153844, 33333.333333333336, 32835.82089552239, 32352.941176470587, 31884.057971014492] [-13.6, -3.4, -1.511111111111111, -0.85, -0.544, -0.37777777777777777, -0.27755102040816326, -0.2125, -0.16790123456790124, -0.136, -0.11239669421487603, -0.09444444444444444, -0.08047337278106509, -0.06938775510204082, -0.06044444444444444, -0.053125, -0.047058823529411764, -0.04197530864197531, -0.037673130193905814, -0.034, -0.030839002267573697, -0.028099173553719006, -0.025708884688090735, -0.02361111111111111, -0.021759999999999998, -0.020118343195266272, -0.018655692729766804, -0.017346938775510204, -0.016171224732461353, -0.01511111111111111, -0.014151925078043704, -0.01328125, -0.01248852157943067, -0.011764705882352941, -0.01110204081632653, -0.010493827160493827, -0.00993425858290723, -0.009418282548476454, -0.008941485864562787, -0.0085, -0.00809042236763831, -0.007709750566893424, -0.007355327203893996, -0.007024793388429752, -0.006716049382716049, -0.006427221172022684, -0.006156631960162969, -0.005902777777777778, -0.005664306538942107, -0.0054399999999999995, -0.00522875816993464, -0.005029585798816568, -0.004841580633677465, -0.004663923182441701, -0.0044958677685950415, -0.004336734693877551, -0.004185903354878424, -0.004042806183115338, -0.003906923297902902, -0.0037777777777777775, -0.003654931470034937, -0.003537981269510926, -0.0034265558075081883, -0.0033203125, -0.0032189349112426036, -0.0031221303948576677, -0.0030296279795054577, -0.0029411764705882353, -0.002856542743121193] [68.26705811128356, 68.26705811128356, 68.26705811128356, 68.26705811128356, 68.26705811128356, 68.26705811128356, 68.26705811128356, 68.26705811128356, 68.26705811128356, 68.26705811128356, 68.26705811128356, 68.26705811128356, 68.26705811128356, 68.26705811128356, 68.26705811128356, 68.26705811128356, 68.26705811128356, 68.26705811128356, 68.26705811128356, 68.26705811128356, 68.26705811128356, 68.26705811128356, 68.26705811128356, 68.26705811128356, 68.26705811128356, 68.26705811128356, 68.26705811128356, 68.26705811128356, 68.26705811128356, 68.26705811128356, 68.26705811128356, 68.26705811128356, 68.26705811128356, 68.26705811128356, 68.26705811128356, 68.26705811128356, 68.26705811128356, 68.26705811128356, 68.26705811128356, 68.26705811128356, 68.26705811128356, 68.26705811128356, 68.26705811128356, 68.26705811128356, 68.26705811128356, 68.26705811128356, 68.26705811128356, 68.26705811128356, 68.26705811128356, 68.26705811128356, 68.26705811128356, 68.26705811128356, 68.26705811128356, 68.26705811128356, 68.26705811128356, 68.26705811128356, 68.26705811128356, 68.26705811128356, 68.26705811128356, 68.26705811128356, 68.26705811128356, 68.26705811128356, 68.26705811128356, 68.26705811128356, 68.26705811128356, 68.26705811128356, 68.26705811128356, 68.26705811128356, 68.26705811128356] [0.014648353505579208, 0.014648353505579208, 0.014648353505579208, 0.014648353505579208, 0.014648353505579208, 0.014648353505579208, 0.014648353505579208, 0.014648353505579208, 0.014648353505579208, 0.014648353505579208, 0.014648353505579208, 0.014648353505579208, 0.014648353505579208, 0.014648353505579208, 0.014648353505579208, 0.014648353505579208, 0.014648353505579208, 0.014648353505579208, 0.014648353505579208, 0.014648353505579208, 0.014648353505579208, 0.014648353505579208, 0.014648353505579208, 0.014648353505579208, 0.014648353505579208, 0.014648353505579208, 0.014648353505579208, 0.014648353505579208, 0.014648353505579208, 0.014648353505579208, 0.014648353505579208, 0.014648353505579208, 0.014648353505579208, 0.014648353505579208, 0.014648353505579208, 0.014648353505579208, 0.014648353505579208, 0.014648353505579208, 0.014648353505579208, 0.014648353505579208, 0.014648353505579208, 0.014648353505579208, 0.014648353505579208, 0.014648353505579208, 0.014648353505579208, 0.014648353505579208, 0.014648353505579208, 0.014648353505579208, 0.014648353505579208, 0.014648353505579208, 0.014648353505579208, 0.014648353505579208, 0.014648353505579208, 0.014648353505579208, 0.014648353505579208, 0.014648353505579208, 0.014648353505579208, 0.014648353505579208, 0.014648353505579208, 0.014648353505579208, 0.014648353505579208, 0.014648353505579208, 0.014648353505579208, 0.014648353505579208, 0.014648353505579208, 0.014648353505579208, 0.014648353505579208, 0.014648353505579208, 0.014648353505579208]\n"
     ]
    }
   ],
   "source": [
    "N=[]\n",
    "R=[]\n",
    "V=[]\n",
    "E=[]\n",
    "F=[]\n",
    "G=[]\n",
    "for n in range(1,70):\n",
    "    rr=H.Hydrogen_radius(n)\n",
    "    vv=H.velocity_of_electron(n)\n",
    "    ee=H.Total_Energy(n)\n",
    "    for n1 in range(1,70):\n",
    "        for n2 in range(1,70):\n",
    "            if n1<n2:\n",
    "                ff=H.Wave_Number(n1,n2)\n",
    "                gg=H.Wave_Length(n1,n2)\n",
    "    N.append(n)\n",
    "    R.append(rr)\n",
    "    V.append(vv)\n",
    "    E.append(ee)\n",
    "    F.append(ff)\n",
    "    G.append(gg)\n",
    "print(N,R,V,E, F,G)      \n",
    "           "
   ]
  },
  {
   "cell_type": "code",
   "execution_count": 45,
   "metadata": {},
   "outputs": [
    {
     "name": "stdout",
     "output_type": "stream",
     "text": [
      "{'PrincipalQuantumNumber': [1, 2, 3, 4, 5, 6, 7, 8, 9, 10, 11, 12, 13, 14, 15, 16, 17, 18, 19, 20, 21, 22, 23, 24, 25, 26, 27, 28, 29, 30, 31, 32, 33, 34, 35, 36, 37, 38, 39, 40, 41, 42, 43, 44, 45, 46, 47, 48, 49, 50, 51, 52, 53, 54, 55, 56, 57, 58, 59, 60, 61, 62, 63, 64, 65, 66, 67, 68, 69], 'radius': [0.528, 2.112, 4.752000000000001, 8.448, 13.200000000000001, 19.008000000000003, 25.872, 33.792, 42.768, 52.800000000000004, 63.888000000000005, 76.03200000000001, 89.232, 103.488, 118.80000000000001, 135.168, 152.592, 171.072, 190.608, 211.20000000000002, 232.848, 255.55200000000002, 279.312, 304.12800000000004, 330.0, 356.928, 384.91200000000003, 413.952, 444.048, 475.20000000000005, 507.408, 540.672, 574.9920000000001, 610.368, 646.8000000000001, 684.288, 722.832, 762.432, 803.0880000000001, 844.8000000000001, 887.5680000000001, 931.392, 976.272, 1022.2080000000001, 1069.2, 1117.248, 1166.352, 1216.5120000000002, 1267.728, 1320.0, 1373.328, 1427.712, 1483.152, 1539.6480000000001, 1597.2, 1655.808, 1715.472, 1776.192, 1837.968, 1900.8000000000002, 1964.688, 2029.632, 2095.632, 2162.688, 2230.8, 2299.9680000000003, 2370.192, 2441.472, 2513.808], 'Velocity': [2200000.0, 1100000.0, 733333.3333333334, 550000.0, 440000.0, 366666.6666666667, 314285.71428571426, 275000.0, 244444.44444444444, 220000.0, 200000.0, 183333.33333333334, 169230.76923076922, 157142.85714285713, 146666.66666666666, 137500.0, 129411.76470588235, 122222.22222222222, 115789.47368421052, 110000.0, 104761.90476190476, 100000.0, 95652.17391304347, 91666.66666666667, 88000.0, 84615.38461538461, 81481.48148148147, 78571.42857142857, 75862.06896551725, 73333.33333333333, 70967.74193548386, 68750.0, 66666.66666666667, 64705.882352941175, 62857.142857142855, 61111.11111111111, 59459.45945945946, 57894.73684210526, 56410.256410256414, 55000.0, 53658.53658536585, 52380.95238095238, 51162.79069767442, 50000.0, 48888.88888888889, 47826.086956521736, 46808.51063829787, 45833.333333333336, 44897.95918367347, 44000.0, 43137.25490196078, 42307.692307692305, 41509.43396226415, 40740.74074074074, 40000.0, 39285.71428571428, 38596.491228070176, 37931.03448275862, 37288.13559322034, 36666.666666666664, 36065.57377049181, 35483.87096774193, 34920.63492063492, 34375.0, 33846.153846153844, 33333.333333333336, 32835.82089552239, 32352.941176470587, 31884.057971014492], 'Energy': [-13.6, -3.4, -1.511111111111111, -0.85, -0.544, -0.37777777777777777, -0.27755102040816326, -0.2125, -0.16790123456790124, -0.136, -0.11239669421487603, -0.09444444444444444, -0.08047337278106509, -0.06938775510204082, -0.06044444444444444, -0.053125, -0.047058823529411764, -0.04197530864197531, -0.037673130193905814, -0.034, -0.030839002267573697, -0.028099173553719006, -0.025708884688090735, -0.02361111111111111, -0.021759999999999998, -0.020118343195266272, -0.018655692729766804, -0.017346938775510204, -0.016171224732461353, -0.01511111111111111, -0.014151925078043704, -0.01328125, -0.01248852157943067, -0.011764705882352941, -0.01110204081632653, -0.010493827160493827, -0.00993425858290723, -0.009418282548476454, -0.008941485864562787, -0.0085, -0.00809042236763831, -0.007709750566893424, -0.007355327203893996, -0.007024793388429752, -0.006716049382716049, -0.006427221172022684, -0.006156631960162969, -0.005902777777777778, -0.005664306538942107, -0.0054399999999999995, -0.00522875816993464, -0.005029585798816568, -0.004841580633677465, -0.004663923182441701, -0.0044958677685950415, -0.004336734693877551, -0.004185903354878424, -0.004042806183115338, -0.003906923297902902, -0.0037777777777777775, -0.003654931470034937, -0.003537981269510926, -0.0034265558075081883, -0.0033203125, -0.0032189349112426036, -0.0031221303948576677, -0.0030296279795054577, -0.0029411764705882353, -0.002856542743121193], 'WaveNumber': [68.26705811128356, 68.26705811128356, 68.26705811128356, 68.26705811128356, 68.26705811128356, 68.26705811128356, 68.26705811128356, 68.26705811128356, 68.26705811128356, 68.26705811128356, 68.26705811128356, 68.26705811128356, 68.26705811128356, 68.26705811128356, 68.26705811128356, 68.26705811128356, 68.26705811128356, 68.26705811128356, 68.26705811128356, 68.26705811128356, 68.26705811128356, 68.26705811128356, 68.26705811128356, 68.26705811128356, 68.26705811128356, 68.26705811128356, 68.26705811128356, 68.26705811128356, 68.26705811128356, 68.26705811128356, 68.26705811128356, 68.26705811128356, 68.26705811128356, 68.26705811128356, 68.26705811128356, 68.26705811128356, 68.26705811128356, 68.26705811128356, 68.26705811128356, 68.26705811128356, 68.26705811128356, 68.26705811128356, 68.26705811128356, 68.26705811128356, 68.26705811128356, 68.26705811128356, 68.26705811128356, 68.26705811128356, 68.26705811128356, 68.26705811128356, 68.26705811128356, 68.26705811128356, 68.26705811128356, 68.26705811128356, 68.26705811128356, 68.26705811128356, 68.26705811128356, 68.26705811128356, 68.26705811128356, 68.26705811128356, 68.26705811128356, 68.26705811128356, 68.26705811128356, 68.26705811128356, 68.26705811128356, 68.26705811128356, 68.26705811128356, 68.26705811128356, 68.26705811128356], 'wavelength': [0.014648353505579208, 0.014648353505579208, 0.014648353505579208, 0.014648353505579208, 0.014648353505579208, 0.014648353505579208, 0.014648353505579208, 0.014648353505579208, 0.014648353505579208, 0.014648353505579208, 0.014648353505579208, 0.014648353505579208, 0.014648353505579208, 0.014648353505579208, 0.014648353505579208, 0.014648353505579208, 0.014648353505579208, 0.014648353505579208, 0.014648353505579208, 0.014648353505579208, 0.014648353505579208, 0.014648353505579208, 0.014648353505579208, 0.014648353505579208, 0.014648353505579208, 0.014648353505579208, 0.014648353505579208, 0.014648353505579208, 0.014648353505579208, 0.014648353505579208, 0.014648353505579208, 0.014648353505579208, 0.014648353505579208, 0.014648353505579208, 0.014648353505579208, 0.014648353505579208, 0.014648353505579208, 0.014648353505579208, 0.014648353505579208, 0.014648353505579208, 0.014648353505579208, 0.014648353505579208, 0.014648353505579208, 0.014648353505579208, 0.014648353505579208, 0.014648353505579208, 0.014648353505579208, 0.014648353505579208, 0.014648353505579208, 0.014648353505579208, 0.014648353505579208, 0.014648353505579208, 0.014648353505579208, 0.014648353505579208, 0.014648353505579208, 0.014648353505579208, 0.014648353505579208, 0.014648353505579208, 0.014648353505579208, 0.014648353505579208, 0.014648353505579208, 0.014648353505579208, 0.014648353505579208, 0.014648353505579208, 0.014648353505579208, 0.014648353505579208, 0.014648353505579208, 0.014648353505579208, 0.014648353505579208]}\n"
     ]
    }
   ],
   "source": [
    "# construction of a dictionary\n",
    "data={}\n",
    "data.update({\"PrincipalQuantumNumber\":N, \"radius\":R, \"Velocity\":V, \"Energy\":E, \"WaveNumber\":F, \"wavelength\":G})\n",
    "print(data)"
   ]
  },
  {
   "cell_type": "code",
   "execution_count": 46,
   "metadata": {},
   "outputs": [],
   "source": [
    "import pandas as pd\n",
    "DF=pd.DataFrame(data)\n",
    "#print(DF)"
   ]
  },
  {
   "cell_type": "code",
   "execution_count": 47,
   "metadata": {},
   "outputs": [
    {
     "data": {
      "text/html": [
       "<div>\n",
       "<style scoped>\n",
       "    .dataframe tbody tr th:only-of-type {\n",
       "        vertical-align: middle;\n",
       "    }\n",
       "\n",
       "    .dataframe tbody tr th {\n",
       "        vertical-align: top;\n",
       "    }\n",
       "\n",
       "    .dataframe thead th {\n",
       "        text-align: right;\n",
       "    }\n",
       "</style>\n",
       "<table border=\"1\" class=\"dataframe\">\n",
       "  <thead>\n",
       "    <tr style=\"text-align: right;\">\n",
       "      <th></th>\n",
       "      <th>PrincipalQuantumNumber</th>\n",
       "      <th>radius</th>\n",
       "      <th>Velocity</th>\n",
       "      <th>Energy</th>\n",
       "      <th>WaveNumber</th>\n",
       "      <th>wavelength</th>\n",
       "    </tr>\n",
       "  </thead>\n",
       "  <tbody>\n",
       "    <tr>\n",
       "      <th>0</th>\n",
       "      <td>1</td>\n",
       "      <td>0.528</td>\n",
       "      <td>2.200000e+06</td>\n",
       "      <td>-13.600000</td>\n",
       "      <td>68.267058</td>\n",
       "      <td>0.014648</td>\n",
       "    </tr>\n",
       "    <tr>\n",
       "      <th>1</th>\n",
       "      <td>2</td>\n",
       "      <td>2.112</td>\n",
       "      <td>1.100000e+06</td>\n",
       "      <td>-3.400000</td>\n",
       "      <td>68.267058</td>\n",
       "      <td>0.014648</td>\n",
       "    </tr>\n",
       "    <tr>\n",
       "      <th>2</th>\n",
       "      <td>3</td>\n",
       "      <td>4.752</td>\n",
       "      <td>7.333333e+05</td>\n",
       "      <td>-1.511111</td>\n",
       "      <td>68.267058</td>\n",
       "      <td>0.014648</td>\n",
       "    </tr>\n",
       "    <tr>\n",
       "      <th>3</th>\n",
       "      <td>4</td>\n",
       "      <td>8.448</td>\n",
       "      <td>5.500000e+05</td>\n",
       "      <td>-0.850000</td>\n",
       "      <td>68.267058</td>\n",
       "      <td>0.014648</td>\n",
       "    </tr>\n",
       "    <tr>\n",
       "      <th>4</th>\n",
       "      <td>5</td>\n",
       "      <td>13.200</td>\n",
       "      <td>4.400000e+05</td>\n",
       "      <td>-0.544000</td>\n",
       "      <td>68.267058</td>\n",
       "      <td>0.014648</td>\n",
       "    </tr>\n",
       "  </tbody>\n",
       "</table>\n",
       "</div>"
      ],
      "text/plain": [
       "   PrincipalQuantumNumber  radius      Velocity     Energy  WaveNumber  \\\n",
       "0                       1   0.528  2.200000e+06 -13.600000   68.267058   \n",
       "1                       2   2.112  1.100000e+06  -3.400000   68.267058   \n",
       "2                       3   4.752  7.333333e+05  -1.511111   68.267058   \n",
       "3                       4   8.448  5.500000e+05  -0.850000   68.267058   \n",
       "4                       5  13.200  4.400000e+05  -0.544000   68.267058   \n",
       "\n",
       "   wavelength  \n",
       "0    0.014648  \n",
       "1    0.014648  \n",
       "2    0.014648  \n",
       "3    0.014648  \n",
       "4    0.014648  "
      ]
     },
     "execution_count": 47,
     "metadata": {},
     "output_type": "execute_result"
    }
   ],
   "source": [
    "DF.to_csv(\"Hydrogen_atom.csv\")\n",
    "DF.head()"
   ]
  },
  {
   "cell_type": "code",
   "execution_count": 48,
   "metadata": {},
   "outputs": [
    {
     "data": {
      "text/html": [
       "<div>\n",
       "<style scoped>\n",
       "    .dataframe tbody tr th:only-of-type {\n",
       "        vertical-align: middle;\n",
       "    }\n",
       "\n",
       "    .dataframe tbody tr th {\n",
       "        vertical-align: top;\n",
       "    }\n",
       "\n",
       "    .dataframe thead th {\n",
       "        text-align: right;\n",
       "    }\n",
       "</style>\n",
       "<table border=\"1\" class=\"dataframe\">\n",
       "  <thead>\n",
       "    <tr style=\"text-align: right;\">\n",
       "      <th></th>\n",
       "      <th>Unnamed: 0</th>\n",
       "      <th>PrincipalQuantumNumber</th>\n",
       "      <th>radius</th>\n",
       "      <th>Velocity</th>\n",
       "      <th>Energy</th>\n",
       "      <th>WaveNumber</th>\n",
       "      <th>wavelength</th>\n",
       "    </tr>\n",
       "  </thead>\n",
       "  <tbody>\n",
       "    <tr>\n",
       "      <th>0</th>\n",
       "      <td>0</td>\n",
       "      <td>1</td>\n",
       "      <td>0.528</td>\n",
       "      <td>2.200000e+06</td>\n",
       "      <td>-13.600000</td>\n",
       "      <td>68.267058</td>\n",
       "      <td>0.014648</td>\n",
       "    </tr>\n",
       "    <tr>\n",
       "      <th>1</th>\n",
       "      <td>1</td>\n",
       "      <td>2</td>\n",
       "      <td>2.112</td>\n",
       "      <td>1.100000e+06</td>\n",
       "      <td>-3.400000</td>\n",
       "      <td>68.267058</td>\n",
       "      <td>0.014648</td>\n",
       "    </tr>\n",
       "    <tr>\n",
       "      <th>2</th>\n",
       "      <td>2</td>\n",
       "      <td>3</td>\n",
       "      <td>4.752</td>\n",
       "      <td>7.333333e+05</td>\n",
       "      <td>-1.511111</td>\n",
       "      <td>68.267058</td>\n",
       "      <td>0.014648</td>\n",
       "    </tr>\n",
       "    <tr>\n",
       "      <th>3</th>\n",
       "      <td>3</td>\n",
       "      <td>4</td>\n",
       "      <td>8.448</td>\n",
       "      <td>5.500000e+05</td>\n",
       "      <td>-0.850000</td>\n",
       "      <td>68.267058</td>\n",
       "      <td>0.014648</td>\n",
       "    </tr>\n",
       "    <tr>\n",
       "      <th>4</th>\n",
       "      <td>4</td>\n",
       "      <td>5</td>\n",
       "      <td>13.200</td>\n",
       "      <td>4.400000e+05</td>\n",
       "      <td>-0.544000</td>\n",
       "      <td>68.267058</td>\n",
       "      <td>0.014648</td>\n",
       "    </tr>\n",
       "    <tr>\n",
       "      <th>...</th>\n",
       "      <td>...</td>\n",
       "      <td>...</td>\n",
       "      <td>...</td>\n",
       "      <td>...</td>\n",
       "      <td>...</td>\n",
       "      <td>...</td>\n",
       "      <td>...</td>\n",
       "    </tr>\n",
       "    <tr>\n",
       "      <th>64</th>\n",
       "      <td>64</td>\n",
       "      <td>65</td>\n",
       "      <td>2230.800</td>\n",
       "      <td>3.384615e+04</td>\n",
       "      <td>-0.003219</td>\n",
       "      <td>68.267058</td>\n",
       "      <td>0.014648</td>\n",
       "    </tr>\n",
       "    <tr>\n",
       "      <th>65</th>\n",
       "      <td>65</td>\n",
       "      <td>66</td>\n",
       "      <td>2299.968</td>\n",
       "      <td>3.333333e+04</td>\n",
       "      <td>-0.003122</td>\n",
       "      <td>68.267058</td>\n",
       "      <td>0.014648</td>\n",
       "    </tr>\n",
       "    <tr>\n",
       "      <th>66</th>\n",
       "      <td>66</td>\n",
       "      <td>67</td>\n",
       "      <td>2370.192</td>\n",
       "      <td>3.283582e+04</td>\n",
       "      <td>-0.003030</td>\n",
       "      <td>68.267058</td>\n",
       "      <td>0.014648</td>\n",
       "    </tr>\n",
       "    <tr>\n",
       "      <th>67</th>\n",
       "      <td>67</td>\n",
       "      <td>68</td>\n",
       "      <td>2441.472</td>\n",
       "      <td>3.235294e+04</td>\n",
       "      <td>-0.002941</td>\n",
       "      <td>68.267058</td>\n",
       "      <td>0.014648</td>\n",
       "    </tr>\n",
       "    <tr>\n",
       "      <th>68</th>\n",
       "      <td>68</td>\n",
       "      <td>69</td>\n",
       "      <td>2513.808</td>\n",
       "      <td>3.188406e+04</td>\n",
       "      <td>-0.002857</td>\n",
       "      <td>68.267058</td>\n",
       "      <td>0.014648</td>\n",
       "    </tr>\n",
       "  </tbody>\n",
       "</table>\n",
       "<p>69 rows × 7 columns</p>\n",
       "</div>"
      ],
      "text/plain": [
       "    Unnamed: 0  PrincipalQuantumNumber    radius      Velocity     Energy  \\\n",
       "0            0                       1     0.528  2.200000e+06 -13.600000   \n",
       "1            1                       2     2.112  1.100000e+06  -3.400000   \n",
       "2            2                       3     4.752  7.333333e+05  -1.511111   \n",
       "3            3                       4     8.448  5.500000e+05  -0.850000   \n",
       "4            4                       5    13.200  4.400000e+05  -0.544000   \n",
       "..         ...                     ...       ...           ...        ...   \n",
       "64          64                      65  2230.800  3.384615e+04  -0.003219   \n",
       "65          65                      66  2299.968  3.333333e+04  -0.003122   \n",
       "66          66                      67  2370.192  3.283582e+04  -0.003030   \n",
       "67          67                      68  2441.472  3.235294e+04  -0.002941   \n",
       "68          68                      69  2513.808  3.188406e+04  -0.002857   \n",
       "\n",
       "    WaveNumber  wavelength  \n",
       "0    68.267058    0.014648  \n",
       "1    68.267058    0.014648  \n",
       "2    68.267058    0.014648  \n",
       "3    68.267058    0.014648  \n",
       "4    68.267058    0.014648  \n",
       "..         ...         ...  \n",
       "64   68.267058    0.014648  \n",
       "65   68.267058    0.014648  \n",
       "66   68.267058    0.014648  \n",
       "67   68.267058    0.014648  \n",
       "68   68.267058    0.014648  \n",
       "\n",
       "[69 rows x 7 columns]"
      ]
     },
     "execution_count": 48,
     "metadata": {},
     "output_type": "execute_result"
    }
   ],
   "source": [
    "df=pd.read_csv(\"Hydrogen_atom.csv\")\n",
    "df"
   ]
  },
  {
   "cell_type": "code",
   "execution_count": 49,
   "metadata": {},
   "outputs": [],
   "source": [
    "import matplotlib.pyplot as plt\n",
    "%matplotlib inline\n",
    "import seaborn as sns\n",
    "sns.set()\n",
    "import random as random\n",
    "import json as json\n",
    "import pandas as pd\n",
    "import numpy as np"
   ]
  },
  {
   "cell_type": "code",
   "execution_count": 50,
   "metadata": {},
   "outputs": [
    {
     "data": {
      "image/png": "[encoded data removed]",
      "text/plain": [
       "<Figure size 432x288 with 1 Axes>"
      ]
     },
     "metadata": {},
     "output_type": "display_data"
    }
   ],
   "source": [
    "plt.plot(df.PrincipalQuantumNumber,df.radius,label='Radius of Orbit', color='r')\n",
    "plt.plot(df.PrincipalQuantumNumber,df.Velocity,label='Velocity of Electron', color='b')\n",
    "plt.plot(df.PrincipalQuantumNumber,df.Energy,label='Total Energy', color='yellow')\n",
    "plt.plot(df.PrincipalQuantumNumber,df.WaveNumber,label='Wave Number', color='magenta')\n",
    "plt.plot(df.PrincipalQuantumNumber,df.wavelength,label='Wave Length', color='cyan')\n",
    "plt.title('Variation of H-functions with n')\n",
    "plt.xlabel('Principal Quantum Number')\n",
    "plt.grid(True)\n",
    "plt.legend()\n",
    "plt.show()"
   ]
  },
  {
   "cell_type": "code",
   "execution_count": 51,
   "metadata": {},
   "outputs": [
    {
     "data": {
      "image/png": "[encoded data removed]",
      "text/plain": [
       "<Figure size 432x288 with 1 Axes>"
      ]
     },
     "metadata": {},
     "output_type": "display_data"
    }
   ],
   "source": [
    "plt.semilogy(df.PrincipalQuantumNumber,df.radius,label='Radius of Orbit', color='r')\n",
    "plt.semilogy(df.PrincipalQuantumNumber,df.Velocity,label='Velocity of Electron', color='violet')\n",
    "plt.semilogy(df.PrincipalQuantumNumber,df.Energy,label='Total Energy', color='yellow')\n",
    "plt.semilogy(df.PrincipalQuantumNumber,df.WaveNumber,label='Wave Number', color='green')\n",
    "plt.semilogy(df.PrincipalQuantumNumber,df.wavelength,label='Wave Length', color='cyan')\n",
    "plt.xlabel('Principal Quantum Number')\n",
    "plt.title('Variation of H-functions with n')\n",
    "plt.grid(True)\n",
    "#plt.legend()"
   ]
  },
  {
   "cell_type": "code",
   "execution_count": 52,
   "metadata": {},
   "outputs": [
    {
     "data": {
      "text/plain": [
       "<Figure size 1296x576 with 0 Axes>"
      ]
     },
     "execution_count": 52,
     "metadata": {},
     "output_type": "execute_result"
    },
    {
     "data": {
      "image/png": "[encoded data removed]",
      "text/plain": [
       "<Figure size 432x288 with 1 Axes>"
      ]
     },
     "metadata": {},
     "output_type": "display_data"
    },
    {
     "data": {
      "text/plain": [
       "<Figure size 1296x576 with 0 Axes>"
      ]
     },
     "metadata": {},
     "output_type": "display_data"
    }
   ],
   "source": [
    "plt.loglog(df.PrincipalQuantumNumber,df.radius,label='Radius of Orbit', color='r')\n",
    "plt.loglog(df.PrincipalQuantumNumber,df.Velocity,label='Velocity of Electron', color='violet')\n",
    "plt.loglog(df.PrincipalQuantumNumber,df.Energy,label='Total Energy', color='g')\n",
    "plt.semilogy(df.PrincipalQuantumNumber,df.WaveNumber,label='Wave Number', color='magenta')\n",
    "plt.semilogy(df.PrincipalQuantumNumber,df.wavelength,label='Wave Length',color='cyan')\n",
    "plt.title('Variation of H-functions with n')\n",
    "plt.xlabel('Principal Quantum Number')\n",
    "plt.grid(True)\n",
    "plt.figure(figsize=[18,8])\n",
    "#plt.legend()"
   ]
  },
  {
   "cell_type": "markdown",
   "metadata": {},
   "source": [
    "### Hydrogen Wave functions"
   ]
  },
  {
   "cell_type": "markdown",
   "metadata": {},
   "source": [
    "#### Higher(quantum interpretation) level reference: https://docs.sympy.org/latest/modules/physics/index.html"
   ]
  },
  {
   "cell_type": "markdown",
   "metadata": {},
   "source": [
    "## what is JSON?\n",
    "\n",
    "#### JavaScript Object Notation (JSON) is a standard text-based format for representing structured data based on JavaScript object syntax. It is commonly used for transmitting data in web applications (e.g., sending some data from the server to the client, so it can be displayed on a web page, or vice versa).\n",
    "JSON is a text-based data format following JavaScript object syntax, which was popularized by Douglas Crockford. Even though it closely resembles JavaScript object literal syntax, it can be used independently from JavaScript, and many programming environments feature the ability to read (parse) and generate JSON.\n",
    "\n",
    "JSON exists as a string — useful when you want to transmit data across a network. It needs to be converted to a native JavaScript object when you want to access the data. This is not a big issue —  JavaScript provides a global JSON object that has methods available for converting between the two.\n",
    "\n"
   ]
  },
  {
   "cell_type": "markdown",
   "metadata": {},
   "source": [
    "## What is seaborn?\n",
    "Seaborn is a Python data visualization library based on matplotlib. It provides a high-level interface for drawing attractive and informative statistical graphics."
   ]
  },
  {
   "cell_type": "code",
   "execution_count": null,
   "metadata": {},
   "outputs": [],
   "source": []
  }
 ],
 "metadata": {
  "kernelspec": {
   "display_name": "Python 3",
   "language": "python",
   "name": "python3"
  },
  "language_info": {
   "codemirror_mode": {
    "name": "ipython",
    "version": 3
   },
   "file_extension": ".py",
   "mimetype": "text/x-python",
   "name": "python",
   "nbconvert_exporter": "python",
   "pygments_lexer": "ipython3",
   "version": "3.7.6"
  }
 },
 "nbformat": 4,
 "nbformat_minor": 4
}
